{
  "nbformat": 4,
  "nbformat_minor": 0,
  "metadata": {
    "colab": {
      "name": "ML Debugging is Hard.ipynb",
      "provenance": [],
      "collapsed_sections": [
        "JndnmDMp66FL"
      ]
    },
    "kernelspec": {
      "display_name": "Python 2",
      "name": "python2"
    }
  },
  "cells": [
    {
      "cell_type": "markdown",
      "metadata": {
        "id": "JndnmDMp66FL"
      },
      "source": [
        "#### Copyright 2018 Google LLC."
      ]
    },
    {
      "cell_type": "code",
      "metadata": {
        "cellView": "both",
        "id": "hMqWDc_m6rUC"
      },
      "source": [
        "# Licensed under the Apache License, Version 2.0 (the \"License\");\n",
        "# you may not use this file except in compliance with the License.\n",
        "# You may obtain a copy of the License at\n",
        "#\n",
        "# https://www.apache.org/licenses/LICENSE-2.0\n",
        "#\n",
        "# Unless required by applicable law or agreed to in writing, software\n",
        "# distributed under the License is distributed on an \"AS IS\" BASIS,\n",
        "# WITHOUT WARRANTIES OR CONDITIONS OF ANY KIND, either express or implied.\n",
        "# See the License for the specific language governing permissions and\n",
        "# limitations under the License."
      ],
      "execution_count": null,
      "outputs": []
    },
    {
      "cell_type": "markdown",
      "metadata": {
        "id": "91QkRICDEYqT"
      },
      "source": [
        "# Counterintuitive Challenges in ML Debugging"
      ]
    },
    {
      "cell_type": "markdown",
      "metadata": {
        "id": "9vC0sXBEEgUF"
      },
      "source": [
        "In this Colab, you will explore why ML debugging is harder than traditional debugging by debugging a simple regression problem, with one feature and one label. You will:\n",
        "\n",
        "* Create the dataset.\n",
        "* Try to fit the data with a simple model.\n",
        "* Debug the model.\n",
        "* Demonstrate exploding gradients.\n",
        "\n",
        "Please **make a copy** of this Colab before running it. Click on *File*, and then click on *Save a copy in Drive*."
      ]
    },
    {
      "cell_type": "markdown",
      "metadata": {
        "id": "5IPfZryiJJXv"
      },
      "source": [
        "# Case Study: Debugging a Simple Model"
      ]
    },
    {
      "cell_type": "markdown",
      "metadata": {
        "id": "O-vpfBAN48gW"
      },
      "source": [
        "## Create the Dataset"
      ]
    },
    {
      "cell_type": "markdown",
      "metadata": {
        "id": "_OeRWVAGvF63"
      },
      "source": [
        "Run the cells below to load libraries."
      ]
    },
    {
      "cell_type": "code",
      "metadata": {
        "id": "SYj-8T48e6Rw"
      },
      "source": [
        "# Reset environment for a new run\n",
        "% reset -f\n",
        "\n",
        "# Load Libraries\n",
        "from os.path import join # for joining file pathnames\n",
        "import pandas as pd\n",
        "import tensorflow as tf\n",
        "from tensorflow import keras\n",
        "import numpy as np\n",
        "import matplotlib.pyplot as plt\n",
        "\n",
        "# Set Pandas display options\n",
        "pd.options.display.max_rows = 10\n",
        "pd.options.display.float_format = '{:.1f}'.format"
      ],
      "execution_count": 1,
      "outputs": []
    },
    {
      "cell_type": "markdown",
      "metadata": {
        "id": "Ox6Jlt_rj8s0"
      },
      "source": [
        "Create the data. Your data consists of one feature with values 0 to 9, and your labels are the same data with some noise added. In a dataset, by convention, rows are examples and columns are features. To match this convention, transpose your data. Before transposing your vectors, you must convert them to matrices."
      ]
    },
    {
      "cell_type": "code",
      "metadata": {
        "id": "4aN24LlKj7LM",
        "colab": {
          "base_uri": "https://localhost:8080/"
        },
        "outputId": "bf10d12d-8cab-445c-a0b4-e0c7e252f030"
      },
      "source": [
        "features = np.array(range(10))\n",
        "print(features)\n",
        "features = features[:, np.newaxis]\n",
        "print(features)\n",
        "# Create labels by adding noise distributed around 0\n",
        "labels = features + np.random.random(size=[10,1]) - 0.5\n",
        "print(labels)"
      ],
      "execution_count": 25,
      "outputs": [
        {
          "output_type": "stream",
          "name": "stdout",
          "text": [
            "[0 1 2 3 4 5 6 7 8 9]\n",
            "[[0]\n",
            " [1]\n",
            " [2]\n",
            " [3]\n",
            " [4]\n",
            " [5]\n",
            " [6]\n",
            " [7]\n",
            " [8]\n",
            " [9]]\n",
            "[[0.05593463]\n",
            " [1.10423592]\n",
            " [1.77273147]\n",
            " [3.30089217]\n",
            " [4.28954009]\n",
            " [5.45766956]\n",
            " [6.23971371]\n",
            " [7.07230151]\n",
            " [7.68890421]\n",
            " [9.09576227]]\n"
          ]
        }
      ]
    },
    {
      "cell_type": "markdown",
      "metadata": {
        "id": "bMXvcL7fpkG2"
      },
      "source": [
        "Verify that the data roughly lies in a straight line and, therefore, is easily predicted..\n"
      ]
    },
    {
      "cell_type": "code",
      "metadata": {
        "id": "P6fomFA9pnrF",
        "colab": {
          "base_uri": "https://localhost:8080/",
          "height": 286
        },
        "outputId": "0d245c15-f1f4-433b-9cb3-e5b4610723d8"
      },
      "source": [
        "# Visualize the data\n",
        "plt.scatter(features,labels)"
      ],
      "execution_count": 27,
      "outputs": [
        {
          "output_type": "execute_result",
          "data": {
            "text/plain": [
              "<matplotlib.collections.PathCollection at 0x7fb5bbafde90>"
            ]
          },
          "metadata": {},
          "execution_count": 27
        },
        {
          "output_type": "display_data",
          "data": {
            "image/png": "[encoded data removed]",
            "text/plain": [
              "<Figure size 432x288 with 1 Axes>"
            ]
          },
          "metadata": {
            "needs_background": "light"
          }
        }
      ]
    },
    {
      "cell_type": "markdown",
      "metadata": {
        "id": "MAVm0L6GCwrs"
      },
      "source": [
        "## Fit Simple Data with Simple Model"
      ]
    },
    {
      "cell_type": "markdown",
      "metadata": {
        "id": "vgn_hESwkhmd"
      },
      "source": [
        "TensorFlow provides several different APIs. This Colab only demonstrates the Keras API since Keras lets you quickly train models in a few lines of code using high-level APIs. In Keras, the typical neural network is a `sequential` model with fully-connected, or `dense`, layers.\n",
        "\n",
        "Your dataset is simple. A neural network with just 1 neuron should learn your dataset. Define a neural network with 1 layer having 1 neuron using the model type `keras.Sequential` with the layer type `keras.layers.Dense`. To understand the Keras code, read the code comments. Then run the cell. The code prints the model summary to show a model with 1 layer and 2 parameters (weight and bias)."
      ]
    },
    {
      "cell_type": "code",
      "metadata": {
        "id": "E2SHLw83z4fF",
        "colab": {
          "base_uri": "https://localhost:8080/"
        },
        "outputId": "b1f9bf7d-eed1-442e-b7e3-1d3855284636"
      },
      "source": [
        "# Delete any existing assignment to \"model\"\n",
        "model = None\n",
        "\n",
        "# Use a sequential model\n",
        "model = keras.Sequential()\n",
        "\n",
        "# Add a layer with 1 neuron. Use the popular \"tanh\" activation function\n",
        "model.add(keras.layers.Dense(units=1,             # 1 neuron\n",
        "                             activation='linear',   # 'tanh'\n",
        "                             input_dim=1))         # number of feature cols=1\n",
        "\n",
        "# Model calculates loss using mean-square error (MSE)\n",
        "# Model trains using Adam optimizer with learning rate = 0.001\n",
        "model.compile(optimizer=tf.optimizers.Adam(0.001),\n",
        "              loss='mse',\n",
        "             )\n",
        "\n",
        "print(model.summary())"
      ],
      "execution_count": 29,
      "outputs": [
        {
          "output_type": "stream",
          "name": "stdout",
          "text": [
            "Model: \"sequential_9\"\n",
            "_________________________________________________________________\n",
            "Layer (type)                 Output Shape              Param #   \n",
            "=================================================================\n",
            "dense_9 (Dense)              (None, 1)                 2         \n",
            "=================================================================\n",
            "Total params: 2\n",
            "Trainable params: 2\n",
            "Non-trainable params: 0\n",
            "_________________________________________________________________\n",
            "None\n"
          ]
        }
      ]
    },
    {
      "cell_type": "markdown",
      "metadata": {
        "id": "ERliMzkpvm8n"
      },
      "source": [
        "Now, train the model."
      ]
    },
    {
      "cell_type": "code",
      "metadata": {
        "id": "ldasx-XNvr53",
        "colab": {
          "base_uri": "https://localhost:8080/"
        },
        "outputId": "8a92d1e0-6914-401a-974e-44b5be588168"
      },
      "source": [
        "model.fit(x=features,\n",
        "          y=labels,\n",
        "          epochs=40,    # train for 10 epochs\n",
        "          batch_size=20,# use 10 examples per batch\n",
        "          verbose=1)    # verbose=1 prints progress per epoch"
      ],
      "execution_count": 30,
      "outputs": [
        {
          "output_type": "stream",
          "name": "stdout",
          "text": [
            "Train on 10 samples\n",
            "Epoch 1/40\n",
            "10/10 [==============================] - 0s 19ms/sample - loss: 1.7244\n",
            "Epoch 2/40\n",
            "10/10 [==============================] - 0s 462us/sample - loss: 1.7084\n",
            "Epoch 3/40\n",
            "10/10 [==============================] - 0s 303us/sample - loss: 1.6924\n",
            "Epoch 4/40\n",
            "10/10 [==============================] - 0s 328us/sample - loss: 1.6766\n",
            "Epoch 5/40\n",
            "10/10 [==============================] - 0s 341us/sample - loss: 1.6608\n",
            "Epoch 6/40\n",
            "10/10 [==============================] - 0s 297us/sample - loss: 1.6451\n",
            "Epoch 7/40\n",
            "10/10 [==============================] - 0s 284us/sample - loss: 1.6295\n",
            "Epoch 8/40\n",
            "10/10 [==============================] - 0s 266us/sample - loss: 1.6140\n",
            "Epoch 9/40\n",
            "10/10 [==============================] - 0s 258us/sample - loss: 1.5986\n",
            "Epoch 10/40\n",
            "10/10 [==============================] - 0s 299us/sample - loss: 1.5832\n",
            "Epoch 11/40\n",
            "10/10 [==============================] - 0s 217us/sample - loss: 1.5680\n",
            "Epoch 12/40\n",
            "10/10 [==============================] - 0s 183us/sample - loss: 1.5528\n",
            "Epoch 13/40\n",
            "10/10 [==============================] - 0s 205us/sample - loss: 1.5377\n",
            "Epoch 14/40\n",
            "10/10 [==============================] - 0s 290us/sample - loss: 1.5227\n",
            "Epoch 15/40\n",
            "10/10 [==============================] - 0s 282us/sample - loss: 1.5079\n",
            "Epoch 16/40\n",
            "10/10 [==============================] - 0s 262us/sample - loss: 1.4931\n",
            "Epoch 17/40\n",
            "10/10 [==============================] - 0s 269us/sample - loss: 1.4784\n",
            "Epoch 18/40\n",
            "10/10 [==============================] - 0s 268us/sample - loss: 1.4638\n",
            "Epoch 19/40\n",
            "10/10 [==============================] - 0s 251us/sample - loss: 1.4492\n",
            "Epoch 20/40\n",
            "10/10 [==============================] - 0s 249us/sample - loss: 1.4348\n",
            "Epoch 21/40\n",
            "10/10 [==============================] - 0s 310us/sample - loss: 1.4205\n",
            "Epoch 22/40\n",
            "10/10 [==============================] - 0s 292us/sample - loss: 1.4063\n",
            "Epoch 23/40\n",
            "10/10 [==============================] - 0s 249us/sample - loss: 1.3922\n",
            "Epoch 24/40\n",
            "10/10 [==============================] - 0s 262us/sample - loss: 1.3781\n",
            "Epoch 25/40\n",
            "10/10 [==============================] - 0s 280us/sample - loss: 1.3642\n",
            "Epoch 26/40\n",
            "10/10 [==============================] - 0s 264us/sample - loss: 1.3504\n",
            "Epoch 27/40\n",
            "10/10 [==============================] - 0s 256us/sample - loss: 1.3367\n",
            "Epoch 28/40\n",
            "10/10 [==============================] - 0s 249us/sample - loss: 1.3231\n",
            "Epoch 29/40\n",
            "10/10 [==============================] - 0s 246us/sample - loss: 1.3095\n",
            "Epoch 30/40\n",
            "10/10 [==============================] - 0s 218us/sample - loss: 1.2961\n",
            "Epoch 31/40\n",
            "10/10 [==============================] - 0s 334us/sample - loss: 1.2828\n",
            "Epoch 32/40\n",
            "10/10 [==============================] - 0s 252us/sample - loss: 1.2696\n",
            "Epoch 33/40\n",
            "10/10 [==============================] - 0s 259us/sample - loss: 1.2564\n",
            "Epoch 34/40\n",
            "10/10 [==============================] - 0s 288us/sample - loss: 1.2434\n",
            "Epoch 35/40\n",
            "10/10 [==============================] - 0s 254us/sample - loss: 1.2305\n",
            "Epoch 36/40\n",
            "10/10 [==============================] - 0s 370us/sample - loss: 1.2177\n",
            "Epoch 37/40\n",
            "10/10 [==============================] - 0s 362us/sample - loss: 1.2050\n",
            "Epoch 38/40\n",
            "10/10 [==============================] - 0s 249us/sample - loss: 1.1924\n",
            "Epoch 39/40\n",
            "10/10 [==============================] - 0s 246us/sample - loss: 1.1799\n",
            "Epoch 40/40\n",
            "10/10 [==============================] - 0s 939us/sample - loss: 1.1674\n"
          ]
        },
        {
          "output_type": "execute_result",
          "data": {
            "text/plain": [
              "<tensorflow.python.keras.callbacks.History at 0x7fb5c7e7d2d0>"
            ]
          },
          "metadata": {},
          "execution_count": 30
        }
      ]
    },
    {
      "cell_type": "markdown",
      "metadata": {
        "id": "CMcdO6GPnBCK"
      },
      "source": [
        "Your loss stubbornly refuses to decrease! Review your approach keeping in mind the guidance on the [model development process](https://developers.google.com/machine-learning/testing-debugging/common/overview). \n",
        "\n",
        "The following list describes possible actions to debug your model. Read the actions and their explanations to understand how debugging in ML requires you to sort through multiple possibilities at once. If an action sounds promising, experiment by modifying the code above.\n",
        "\n",
        "* **Transforming data**: You data is not transformed. You can experiment by transforming the data appropriately and retraining the model.\n",
        "* **Activation function**: The `tanh` activation function cannot predict values >1. Besides, in a regression problem, the last layer should always use the linear activation function. Therefore, should you use  `activation='linear'`?\n",
        "* **Hyperparameter values**: Should you adjust any hyperparameter values to try reducing loss?\n",
        "* **Simpler model**: The model development process recommends starting with a simple model. A linear model is simpler than your nonlinear model. Should you use `activation='linear'`?\n",
        "* **Change optimizer**: Your model uses the Adam optimizer. You can fall back to the gradient descent optimizer by using `optimizer=keras.optimizers.SGD()`.\n",
        "\n",
        "Consider these actions and experiment where necessary. Then read the following section for the solution."
      ]
    },
    {
      "cell_type": "markdown",
      "metadata": {
        "id": "Ej14ORiDUIM3"
      },
      "source": [
        "## Solution: Getting Loss to Decrease"
      ]
    },
    {
      "cell_type": "markdown",
      "metadata": {
        "id": "LfGdTkrdUJcm"
      },
      "source": [
        "Before trying to adjust specific model parameters, such as the hyperparameter values, you should first check for good development practices. Here, you should start with a linear model because of these two best practices:\n",
        "\n",
        "* Regression: In a regression problem, the last layer must always be linear.\n",
        "* Start simple: Since a linear model is simpler than a nonliner model, start with a linear model.\n",
        "\n",
        "Run the following code to train a linear model and check if your loss decreases. The code displays the loss curve."
      ]
    },
    {
      "cell_type": "code",
      "metadata": {
        "id": "8fKzl07oWjcD",
        "colab": {
          "base_uri": "https://localhost:8080/",
          "height": 661
        },
        "outputId": "7c0db6cf-149a-4d76-f144-1c9274a721bd"
      },
      "source": [
        "model = None\n",
        "model = keras.Sequential()\n",
        "model.add(keras.layers.Dense(1, activation='linear', input_dim=1))\n",
        "model.compile(optimizer=tf.optimizers.Adam(0.1), loss='mse')\n",
        "trainHistory = model.fit(features, labels, epochs=10, batch_size=1, verbose=1)\n",
        "# Plot loss curve\n",
        "plt.plot(trainHistory.history['loss'])\n",
        "plt.title('Loss Curves')"
      ],
      "execution_count": 37,
      "outputs": [
        {
          "output_type": "stream",
          "name": "stdout",
          "text": [
            "Train on 10 samples\n",
            "Epoch 1/10\n",
            "10/10 [==============================] - 0s 19ms/sample - loss: 3.2669\n",
            "Epoch 2/10\n",
            "10/10 [==============================] - 0s 2ms/sample - loss: 1.0188\n",
            "Epoch 3/10\n",
            "10/10 [==============================] - 0s 2ms/sample - loss: 0.3573\n",
            "Epoch 4/10\n",
            "10/10 [==============================] - 0s 2ms/sample - loss: 0.0750\n",
            "Epoch 5/10\n",
            "10/10 [==============================] - 0s 2ms/sample - loss: 0.1105\n",
            "Epoch 6/10\n",
            "10/10 [==============================] - 0s 2ms/sample - loss: 0.0635\n",
            "Epoch 7/10\n",
            "10/10 [==============================] - 0s 2ms/sample - loss: 0.0628\n",
            "Epoch 8/10\n",
            "10/10 [==============================] - 0s 2ms/sample - loss: 0.0694\n",
            "Epoch 9/10\n",
            "10/10 [==============================] - 0s 2ms/sample - loss: 0.0665\n",
            "Epoch 10/10\n",
            "10/10 [==============================] - 0s 2ms/sample - loss: 0.0681\n"
          ]
        },
        {
          "output_type": "execute_result",
          "data": {
            "text/plain": [
              "Text(0.5,1,'Loss Curves')"
            ]
          },
          "metadata": {},
          "execution_count": 37
        },
        {
          "output_type": "display_data",
          "data": {
            "image/png": "[encoded data removed]",
            "text/plain": [
              "<Figure size 432x288 with 1 Axes>"
            ]
          },
          "metadata": {
            "needs_background": "light"
          }
        }
      ]
    },
    {
      "cell_type": "markdown",
      "metadata": {
        "id": "CkcKovAAk4r_"
      },
      "source": [
        "Your loss decreases, albeit slowly! You're on the right track. How can you get your loss to converge? Experiment with the code above. For the solution, read the following section."
      ]
    },
    {
      "cell_type": "markdown",
      "metadata": {
        "id": "eXckvj-FlEzl"
      },
      "source": [
        "## Solution: Reaching Convergence"
      ]
    },
    {
      "cell_type": "markdown",
      "metadata": {
        "id": "DgBZXOuClIeX"
      },
      "source": [
        "Your loss isn't decreasing fast enough. From the guidance on [Learning Rate](https://developers.google.com/machine-learning/crash-course/reducing-loss/learning-rate), you know that you can increase the learning rate to train faster. Run the following code to increase the learning rate to 0.1. The the model reaches convergence quickly."
      ]
    },
    {
      "cell_type": "code",
      "metadata": {
        "id": "RRkbxeLVlZoy",
        "colab": {
          "base_uri": "https://localhost:8080/"
        },
        "outputId": "bcc633de-de90-4c61-933b-cb83da1f7a79"
      },
      "source": [
        "model = None\n",
        "model = keras.Sequential()\n",
        "model.add(keras.layers.Dense(1, activation='linear', input_dim=1))\n",
        "model.compile(optimizer=tf.optimizers.Adam(0.1), loss='mse')\n",
        "model.fit(features, labels, epochs=5, batch_size=1, verbose=1)"
      ],
      "execution_count": 38,
      "outputs": [
        {
          "output_type": "stream",
          "name": "stdout",
          "text": [
            "Train on 10 samples\n",
            "Epoch 1/5\n",
            "10/10 [==============================] - 0s 18ms/sample - loss: 33.6830\n",
            "Epoch 2/5\n",
            "10/10 [==============================] - 0s 2ms/sample - loss: 4.8395\n",
            "Epoch 3/5\n",
            "10/10 [==============================] - 0s 2ms/sample - loss: 1.3365\n",
            "Epoch 4/5\n",
            "10/10 [==============================] - 0s 2ms/sample - loss: 1.6974\n",
            "Epoch 5/5\n",
            "10/10 [==============================] - 0s 2ms/sample - loss: 0.5304\n"
          ]
        },
        {
          "output_type": "execute_result",
          "data": {
            "text/plain": [
              "<tensorflow.python.keras.callbacks.History at 0x7fb5b5dd7790>"
            ]
          },
          "metadata": {},
          "execution_count": 38
        }
      ]
    },
    {
      "cell_type": "markdown",
      "metadata": {
        "id": "u7Mk-ivUgf9o"
      },
      "source": [
        "Wonderful, you quickly get a very low loss! Let's confirm the model works by predicting results for values [0,9] and superimposing them on top of the features."
      ]
    },
    {
      "cell_type": "code",
      "metadata": {
        "id": "WRgXYbBst0Pd",
        "colab": {
          "base_uri": "https://localhost:8080/",
          "height": 304
        },
        "outputId": "7b62b7e3-6c3f-4ad7-d587-21fa82e4fb48"
      },
      "source": [
        "# get predictions\n",
        "featuresPred = model.predict(features, verbose=1)\n",
        "# Plot original features and predicted values\n",
        "featuresPred = np.transpose(featuresPred)\n",
        "plt.scatter(range(10), labels, c=\"blue\")\n",
        "plt.scatter(range(10), featuresPred, c=\"red\")\n",
        "plt.legend([\"Original\", \"Predicted\"])"
      ],
      "execution_count": 39,
      "outputs": [
        {
          "output_type": "stream",
          "name": "stdout",
          "text": [
            "\r10/10 [==============================] - 0s 2ms/sample\n"
          ]
        },
        {
          "output_type": "execute_result",
          "data": {
            "text/plain": [
              "<matplotlib.legend.Legend at 0x7fb5b54b8c50>"
            ]
          },
          "metadata": {},
          "execution_count": 39
        },
        {
          "output_type": "display_data",
          "data": {
            "image/png": "[encoded data removed]",
            "text/plain": [
              "<Figure size 432x288 with 1 Axes>"
            ]
          },
          "metadata": {
            "needs_background": "light"
          }
        }
      ]
    },
    {
      "cell_type": "markdown",
      "metadata": {
        "id": "8s8gb4rTTei7"
      },
      "source": [
        "Yes, the predictions match the features very well."
      ]
    },
    {
      "cell_type": "markdown",
      "metadata": {
        "id": "38cbAf2RpHtI"
      },
      "source": [
        "## Summary of Case Study"
      ]
    },
    {
      "cell_type": "markdown",
      "metadata": {
        "id": "AjNDlFMMMsTc"
      },
      "source": [
        "When debugging ML models, you should first attempt to diagnose the problem and apply the appropriate fix. For example, if you had changed your optimizer using `optimizer='sgd'`, then your model also converges faster. However, the problem was not with the optimizer but with the learning rate. Changing the optimizer only helps because `optimizer='sgd'` has a higher default learning rate than `optimizer='adam'`.\n",
        "\n",
        "Alternatively, you could train the model for longer with the default learning rate. However, in real-world ML, models take long to train. You should keep your training cycles as short as possible. Therefore, increasing the learning rate is the correct fix.\n",
        "\n",
        "These options demonstrate how debugging in ML is n-dimensional, and therefore you must use your understanding of model mechanics to narrow down your options. Because running experiments in ML is time consuming, requires careful setup, and can be subject to reproducibility issues, it's important to use your understanding of model mechanics to  narrow down options without having to experiment.\n",
        "\n",
        "Lastly, according to development best practices, you should transform your feature data appropriately. This Colab did not transform the feature data because transformation is not required for convergence. However, you should always transform data appropriately. Here, you could normalize your feature data using z-score or scale the feature data to [0,1]. "
      ]
    },
    {
      "cell_type": "markdown",
      "metadata": {
        "id": "HEGEERnbglN9"
      },
      "source": [
        "# Exploding Gradients"
      ]
    },
    {
      "cell_type": "markdown",
      "metadata": {
        "id": "s92MiwHIgm58"
      },
      "source": [
        "A common problem in model training is a loss that \"explodes\" or becomes `nan`. A common cause is anomalous feature data, such as outliers and `nan` values, or a high learning rate. The following sections demonstrate these causes."
      ]
    },
    {
      "cell_type": "markdown",
      "metadata": {
        "id": "wOg62A4KiLk3"
      },
      "source": [
        "## Cause: High Learning Rate\n",
        "\n",
        "In this section, you will create data in the range [0,50] and show that the gradient explodes when you train the model using a learning rate of 0.01. Then you'll reduce the learning rate to make the model converge.\n",
        "\n",
        "Create and visualize the data by running the following code."
      ]
    },
    {
      "cell_type": "code",
      "metadata": {
        "cellView": "both",
        "id": "826oEnhXOi2O",
        "colab": {
          "base_uri": "https://localhost:8080/",
          "height": 286
        },
        "outputId": "93361afd-3567-4ed0-abe8-2823045c9840"
      },
      "source": [
        "# create data with large values\n",
        "features = np.array(range(50))\n",
        "# generate labels\n",
        "labels = features + np.random.random(features.shape) - 0.5\n",
        "\n",
        "# Transpose data for input\n",
        "[features, labels] = [features.transpose(), labels.transpose()]\n",
        "\n",
        "plt.scatter(range(len(features)), features)"
      ],
      "execution_count": 40,
      "outputs": [
        {
          "output_type": "execute_result",
          "data": {
            "text/plain": [
              "<matplotlib.collections.PathCollection at 0x7fb5b6fab050>"
            ]
          },
          "metadata": {},
          "execution_count": 40
        },
        {
          "output_type": "display_data",
          "data": {
            "image/png": "[encoded data removed]",
            "text/plain": [
              "<Figure size 432x288 with 1 Axes>"
            ]
          },
          "metadata": {
            "needs_background": "light"
          }
        }
      ]
    },
    {
      "cell_type": "markdown",
      "metadata": {
        "id": "Ckm1y8fCZ1s0"
      },
      "source": [
        "Run the following cell to train a model with a learning rate of 0.01. You will get `inf` for your loss."
      ]
    },
    {
      "cell_type": "code",
      "metadata": {
        "id": "xE8LTD1CZy98",
        "colab": {
          "base_uri": "https://localhost:8080/",
          "height": 488
        },
        "outputId": "82eefd67-fc3a-4924-85ef-5bfb60eccacd"
      },
      "source": [
        "# Train on raw data\n",
        "model = None\n",
        "model = keras.Sequential()\n",
        "model.add(keras.layers.Dense(1, input_dim=1, activation='linear'))\n",
        "model.compile(optimizer=keras.optimizers.SGD(0.001), loss='mse')\n",
        "#model.fit(features, labels, epochs=5, batch_size=10, verbose=1)\n",
        "trainHistory = model.fit(features, labels, epochs=5, batch_size=10, verbose=1)\n",
        "# Plot loss curve\n",
        "plt.plot(trainHistory.history['loss'])\n",
        "plt.title('Loss Curves')"
      ],
      "execution_count": 52,
      "outputs": [
        {
          "output_type": "stream",
          "name": "stdout",
          "text": [
            "Train on 50 samples\n",
            "Epoch 1/5\n",
            "50/50 [==============================] - 0s 3ms/sample - loss: 1822.0700\n",
            "Epoch 2/5\n",
            "50/50 [==============================] - 0s 272us/sample - loss: 0.1414\n",
            "Epoch 3/5\n",
            "50/50 [==============================] - 0s 195us/sample - loss: 0.0824\n",
            "Epoch 4/5\n",
            "50/50 [==============================] - 0s 166us/sample - loss: 0.0753\n",
            "Epoch 5/5\n",
            "50/50 [==============================] - 0s 179us/sample - loss: 0.1179\n"
          ]
        },
        {
          "output_type": "execute_result",
          "data": {
            "text/plain": [
              "Text(0.5,1,'Loss Curves')"
            ]
          },
          "metadata": {},
          "execution_count": 52
        },
        {
          "output_type": "display_data",
          "data": {
            "image/png": "[encoded data removed]",
            "text/plain": [
              "<Figure size 432x288 with 1 Axes>"
            ]
          },
          "metadata": {
            "needs_background": "light"
          }
        }
      ]
    },
    {
      "cell_type": "markdown",
      "metadata": {
        "id": "A9QgTarmdWxu"
      },
      "source": [
        "To demonstrate that the high learning rate makes the loss explore, reduce the learning rate to `0.001`. Your loss will converge."
      ]
    },
    {
      "cell_type": "markdown",
      "metadata": {
        "id": "RWRyRZaXt_l9"
      },
      "source": [
        "# Conclusion"
      ]
    },
    {
      "cell_type": "markdown",
      "metadata": {
        "id": "4NmLFsc8Gz67"
      },
      "source": [
        "This Colab demonstrated the following principles.\n",
        "\n",
        "* The n-dimensional nature of debugging in ML makes ML debugging hard.\n",
        "* For effective debugging, understanding model mechanics is important.\n",
        "* Start with a simple model.\n",
        "* Exploding gradients incorrect normalization in the model, mis-configuration of FeatureColumns, etc., than raw data containing NaNs."
      ]
    }
  ]
}